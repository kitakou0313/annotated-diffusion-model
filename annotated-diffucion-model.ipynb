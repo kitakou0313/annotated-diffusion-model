{
 "cells": [
  {
   "cell_type": "code",
   "execution_count": 5,
   "metadata": {},
   "outputs": [],
   "source": [
    "import torch.nn.functional as F\n",
    "from torch import nn, einsum\n",
    "import torch\n",
    "from einops import rearrange\n",
    "from tqdm.auto import tqdm\n",
    "import matplotlib.pyplot as plt\n",
    "import math\n",
    "from inspect import isfunction\n",
    "from functools import partial\n",
    "\n",
    "%matplotlib inline\n"
   ]
  },
  {
   "cell_type": "markdown",
   "metadata": {},
   "source": [
    "## diffusion-modelとは？\n",
    "\n",
    "- 単純な分布から得たノイズをデータサンプルに変換するモデル\n",
    "- 純粋なノイズからNNが徐々にノイズ除去の方法を学習していく\n",
    "\n",
    "以下の二つのプロセスから構成される\n",
    "\n",
    "### Forward diffusion process\n",
    "- データにガウス分布から生成したノイズを加算していき、十分純粋なノイズとなるまでTステップ繰り返す\n",
    "    - DDPMでは1000くらい\n",
    "    - 十分Tが大きく、また「a well behaved schedule for adding noise at each time step」であればisotropic Gaussian distributionと見なせるらしい\n",
    "\n",
    "### Learned reverse denoising diffusion process\n",
    "- NNが純粋なノイズから元の画像になるまでノイズ除去できるよう学習する"
   ]
  },
  {
   "cell_type": "markdown",
   "metadata": {},
   "source": []
  }
 ],
 "metadata": {
  "kernelspec": {
   "display_name": "Python 3.10.6 64-bit",
   "language": "python",
   "name": "python3"
  },
  "language_info": {
   "codemirror_mode": {
    "name": "ipython",
    "version": 3
   },
   "file_extension": ".py",
   "mimetype": "text/x-python",
   "name": "python",
   "nbconvert_exporter": "python",
   "pygments_lexer": "ipython3",
   "version": "3.10.6"
  },
  "orig_nbformat": 4,
  "vscode": {
   "interpreter": {
    "hash": "949777d72b0d2535278d3dc13498b2535136f6dfe0678499012e853ee9abcab1"
   }
  }
 },
 "nbformat": 4,
 "nbformat_minor": 2
}
