{
 "cells": [
  {
   "cell_type": "code",
   "execution_count": 1,
   "metadata": {},
   "outputs": [
    {
     "name": "stderr",
     "output_type": "stream",
     "text": [
      "/usr/local/lib/python3.10/site-packages/tqdm/auto.py:22: TqdmWarning: IProgress not found. Please update jupyter and ipywidgets. See https://ipywidgets.readthedocs.io/en/stable/user_install.html\n",
      "  from .autonotebook import tqdm as notebook_tqdm\n"
     ]
    }
   ],
   "source": [
    "import torch.nn.functional as F\n",
    "from torch import nn, einsum\n",
    "import torch\n",
    "from einops import rearrange\n",
    "from tqdm.auto import tqdm\n",
    "import matplotlib.pyplot as plt\n",
    "import math\n",
    "from inspect import isfunction\n",
    "from functools import partial\n",
    "\n",
    "%matplotlib inline\n"
   ]
  },
  {
   "cell_type": "markdown",
   "metadata": {},
   "source": [
    "## diffusion-modelとは？\n",
    "\n",
    "- 単純な分布から得たノイズをデータサンプルに変換するモデル\n",
    "- 純粋なノイズからNNが徐々にノイズ除去の方法を学習していく\n",
    "\n",
    "以下の二つのプロセスから構成される\n",
    "\n",
    "### Forward diffusion process\n",
    "- データにガウス分布から生成したノイズを加算していき、十分純粋なノイズとなるまでTステップ繰り返す\n",
    "    - DDPMでは1000くらい\n",
    "    - 十分Tが大きく、また「a well behaved schedule for adding noise at each time step」であればisotropic Gaussian distributionと見なせるらしい\n",
    "        - https://math.stackexchange.com/questions/1991961/gaussian-distribution-is-isotropic\n",
    "\n",
    "### Learned reverse denoising diffusion process\n",
    "- NNが純粋なノイズから元の画像になるまでノイズ除去できるよう学習する"
   ]
  },
  {
   "cell_type": "code",
   "execution_count": 3,
   "metadata": {},
   "outputs": [],
   "source": [
    "# NN実装用のヘルパー関数\n",
    "\n",
    "def exists(x):\n",
    "    return x is not None\n",
    "\n",
    "def default(val, d):\n",
    "    if exists(val):\n",
    "        return val\n",
    "    return d() if isfunction(d) else d\n",
    "\n",
    "class Residual(nn.Module):\n",
    "    def __init__(self, fn):\n",
    "        super().__init__()\n",
    "        self.fn = fn\n",
    "\n",
    "    def forward(self, x, *args, **kwargs):\n",
    "        \"\"\"\n",
    "        docstring\n",
    "        \"\"\"\n",
    "        return self.fn(x, *args, **kwargs) + x\n",
    "\n",
    "\n",
    "\n",
    "def Upsample(dim):\n",
    "    \"\"\"\n",
    "    アップサンプル用の関数\n",
    "    \"\"\"\n",
    "    return nn.ConvTranspose2d(dim, dim, 4,2,1)\n",
    "\n",
    "def Downsample(dim):\n",
    "    \"\"\"\n",
    "    ダウンサンプリング\n",
    "    \"\"\"\n",
    "    return nn.Conv2d(dim, dim, 4,2,1)\n"
   ]
  },
  {
   "cell_type": "markdown",
   "metadata": {},
   "source": [
    "## tの埋め込み\n",
    "\n",
    "- transformerと同じくPositional Embeddingsを行う"
   ]
  },
  {
   "cell_type": "code",
   "execution_count": 6,
   "metadata": {},
   "outputs": [],
   "source": [
    "# tのpositionalEmbeddingクラス\n",
    "\n",
    "class SinusoidalPositionEmbeddings(nn.Module):\n",
    "    def __init__(self, dim):\n",
    "        \"\"\"\n",
    "        dimは埋め込み先次元\n",
    "        \"\"\"\n",
    "        super().__init__()\n",
    "        self.dim = dim\n",
    "    \n",
    "    def forward(self, time:torch.Tensor):\n",
    "        \"\"\"\n",
    "        tの埋め込み\n",
    "        \"\"\"\n",
    "        device = time.device\n",
    "        half_dim = self.dim // 2\n",
    "\n",
    "        embeddings = math.log(10000) / (half_dim-1)\n",
    "        embeddings = torch.exp(torch.arange(\n",
    "            half_dim, device=device\n",
    "        ) * -embeddings)\n",
    "        embeddings = time[:, None] * embeddings[None, :]\n",
    "        embeddings = torch.cat((embeddings.sin(), embeddings.cos()), dim=-1)\n",
    "        return embeddings\n"
   ]
  },
  {
   "cell_type": "code",
   "execution_count": null,
   "metadata": {},
   "outputs": [],
   "source": [
    "class Block(nn.Module):\n",
    "    \"\"\"\n",
    "    docstring\n",
    "    \"\"\"\n",
    "    def __init__(self,dim, dim_out, groups=8):\n",
    "        super().__init__()\n",
    "        self.proj = nn.Conv2d(dim, dim_out, 3, padding=1)\n",
    "        self.norm = nn.GroupNorm(groups, dim_out)\n",
    "        self.act = nn.SiLU()\n",
    "    \n",
    "    def forward(self, c, scale_shift=None):\n",
    "        \"\"\"\n",
    "        docstring\n",
    "        \"\"\"\n",
    "        x = self.proj(x)\n",
    "        x = self.norm(x)\n",
    "\n",
    "        if exists(scale_shift):\n",
    "            scale, shift = scale_shift\n",
    "            x = x*(scale + 1) + shift\n",
    "\n",
    "        \n",
    "        x = self.act(x)\n",
    "        return x"
   ]
  }
 ],
 "metadata": {
  "kernelspec": {
   "display_name": "Python 3.10.6 64-bit",
   "language": "python",
   "name": "python3"
  },
  "language_info": {
   "codemirror_mode": {
    "name": "ipython",
    "version": 3
   },
   "file_extension": ".py",
   "mimetype": "text/x-python",
   "name": "python",
   "nbconvert_exporter": "python",
   "pygments_lexer": "ipython3",
   "version": "3.10.6"
  },
  "orig_nbformat": 4,
  "vscode": {
   "interpreter": {
    "hash": "949777d72b0d2535278d3dc13498b2535136f6dfe0678499012e853ee9abcab1"
   }
  }
 },
 "nbformat": 4,
 "nbformat_minor": 2
}
